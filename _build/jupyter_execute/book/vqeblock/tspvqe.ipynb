{
 "cells": [
  {
   "cell_type": "markdown",
   "id": "6ce474bd",
   "metadata": {},
   "source": [
    "(tsp2vqe)=\n",
    "\n",
    "# Практика VQE\n",
    "\n",
    "Эта лекция будет посвящена практике с **VQE**, а именно решению задачи коммивояжера. Будет много кода и мало теории. Рекомендуется заранее повторить следующие лекции:\n",
    "\n",
    "- [Описание задачи коммивояжера](../problemsblock/copt.html#id7) в лекции про задачи комбинаторной оптимизации.\n",
    "- [Сведение этой задачи к модели Изинга](../problems2qml/np2ising.html#id10) в лекции о переходе от комбинаторных задач к квантовым алгоритмам.\n",
    "\n",
    "Нам потребуется определить бинарный оператор $\\sigma^{z_{mod}}$, который активно [использовали](../problems2qml/np2ising.html#id3) при определении гамильтониана. Нужно будет расписать полный оператор, отвечающий данной задаче и нужен случайный взвешенный граф, по которому будет \"путешествовать\" коммивояжер. Начнем с импорта библиотек и генерации графа.\n",
    "\n",
    "## Импорт библиотек\n",
    "\n",
    "Для графов будем использовать структуры данных из уже знакомой нам библиотеки `NetwrokX`, а для работы с разреженными операторами `SciPy`."
   ]
  },
  {
   "cell_type": "code",
   "execution_count": null,
   "id": "04877443",
   "metadata": {},
   "outputs": [],
   "source": [
    "import matplotlib.pyplot as plt\n",
    "%config InlineBackend.figure_format = \"retina\"\n",
    "\n",
    "import numpy as np\n",
    "import networkx as nx\n",
    "from scipy import sparse\n",
    "from scipy.sparse import linalg as sl"
   ]
  },
  {
   "cell_type": "markdown",
   "id": "e0a94dec",
   "metadata": {},
   "source": [
    "## Случайный взвешенный граф\n",
    "\n",
    "Случайный взвешенный граф проще всего сгенерировать из случайной матрицы весов. Давайте сделаем такую:\n",
    "\n",
    "```{note}\n",
    "Тут будем работать с матрицей полного графа, то есть такого, в котором каждая вершина связана с каждой. Это вполне корректное допущение для задачи коммивояжера, так как, например, из каждого города РФ обычно можно попасть во все другие, пусть и за разное время в пути.\n",
    "```"
   ]
  },
  {
   "cell_type": "code",
   "execution_count": null,
   "id": "0ed2ad24",
   "metadata": {},
   "outputs": [],
   "source": [
    "np.random.seed(42)\n",
    "rand_mat = np.random.randint(0, 100, (4, 4))"
   ]
  },
  {
   "cell_type": "markdown",
   "id": "a2aa0c3a",
   "metadata": {},
   "source": [
    "Только эта матрица не является симметричной и имеет ненулевые элементы на диагонали. Элементы на диагонали означают петли (loop или self-loop), что не очень разумно в терминах задачи коммивояжера: не ясно, что значит, например, путь из Москвы в Москву. Аналогично и про то, что матрица не симметричная: если путь из Москвы в Санкт-Петербург займет 6 часов, то и путь обратно тоже займет столько же. Так что хотим симметричную матрицу. Давайте это исправим:"
   ]
  },
  {
   "cell_type": "code",
   "execution_count": null,
   "id": "e38893ef",
   "metadata": {},
   "outputs": [],
   "source": [
    "rand_adj = (rand_mat + rand_mat.T) / 2\n",
    "np.fill_diagonal(rand_adj, 0)"
   ]
  },
  {
   "cell_type": "markdown",
   "id": "4eea9212",
   "metadata": {},
   "source": [
    "Наконец, сделаем из этого граф и визуализируем его:"
   ]
  },
  {
   "cell_type": "code",
   "execution_count": null,
   "id": "a6a0f768",
   "metadata": {},
   "outputs": [],
   "source": [
    "g = nx.Graph(rand_adj)\n",
    "\n",
    "pos = nx.drawing.layout.random_layout(g, seed=42)\n",
    "nx.draw(g, pos=pos)\n",
    "edge_weights = nx.get_edge_attributes(g, \"weight\")\n",
    "nx.draw_networkx_edge_labels(g, pos=pos, edge_labels=edge_weights)\n",
    "nx.draw_networkx_labels(g, pos=pos)\n",
    "\n",
    "plt.show()"
   ]
  },
  {
   "cell_type": "markdown",
   "id": "f9d14aa7",
   "metadata": {},
   "source": [
    "## Решение задачи TSP в NetworkX\n",
    "\n",
    "Для того, чтобы потом понять, что все правильно сделали, давайте найдем приближенное решение задачи средствами `NetworkX`."
   ]
  },
  {
   "cell_type": "code",
   "execution_count": null,
   "id": "7443da98",
   "metadata": {},
   "outputs": [],
   "source": [
    "nx_solution = nx.algorithms.approximation.traveling_salesman_problem(g)\n",
    "print(f\"NetworkX solution (nodes order): {nx_solution}\")\n",
    "\n",
    "nx_solution_cost = 0\n",
    "for i in range(len(nx_solution) - 1):\n",
    "    nx_solution_cost += g.get_edge_data(nx_solution[i], nx_solution[i + 1])[\"weight\"]\n",
    "\n",
    "print(f\"NetworkX solution (total cost): {nx_solution_cost}\")"
   ]
  },
  {
   "cell_type": "markdown",
   "id": "13f57439",
   "metadata": {},
   "source": [
    "## Матрица $\\sigma^z_{mod}$\n",
    "\n",
    "Это бинарный оператор, который [ранее вводили](../problems2qml/np2ising.html#id3) в лекции о представлении комбинаторных задач в виде моделей Изинга."
   ]
  },
  {
   "cell_type": "code",
   "execution_count": null,
   "id": "668e3b49",
   "metadata": {},
   "outputs": [],
   "source": [
    "def sigma_z_mod(k: int, size: int) -> sparse.csr_matrix:\n",
    "    sz_mod = sparse.coo_matrix(\n",
    "        [\n",
    "            [1, 0,],\n",
    "            [0, 0,],\n",
    "        ]\n",
    "    )\n",
    "\n",
    "    left_ith = sparse.eye(2 ** k, format=\"coo\")\n",
    "    right_ith = sparse.eye(2 ** (size - k - 1), format=\"coo\")\n",
    "\n",
    "    return sparse.kron(\n",
    "        sparse.kron(left_ith, sz_mod),\n",
    "        right_ith,\n",
    "    )"
   ]
  },
  {
   "cell_type": "markdown",
   "id": "24443da8",
   "metadata": {},
   "source": [
    "Напомним, что эта матрица имеет собственные значения 0 и 1, в чем легко убедиться, создав оператор маленькой размерности и вычислив все его собственные значения:"
   ]
  },
  {
   "cell_type": "code",
   "execution_count": null,
   "id": "f061a228",
   "metadata": {},
   "outputs": [],
   "source": [
    "eigs = np.linalg.eig(sigma_z_mod(1, 3).toarray())\n",
    "print(np.unique(eigs[0]))"
   ]
  },
  {
   "cell_type": "markdown",
   "id": "59fb950c",
   "metadata": {},
   "source": [
    "Легко убедиться, что собственные операторы $\\sigma^{z_{mod}}$ совпадают с собственными операторами $\\sigma^z$, причем они имеют значение 1, когда спин с номером 2 имеет в битовой строке значение 0 и 1 если он имеет значение 1. Напомню, что у нас 0-индексация, поэтому `sigma_z_mod(1, 3)` значит что-то типа \"построй мне матрицу $\\sigma^{z_{mod}}$, действующую на второй спин (ну или второй кубит)\"."
   ]
  },
  {
   "cell_type": "code",
   "execution_count": null,
   "id": "6cd972a8",
   "metadata": {},
   "outputs": [],
   "source": [
    "def sigmaz_k(k: int, n: int) -> sparse.csr_matrix:\n",
    "    left_part = sparse.eye(2 ** k)\n",
    "    right_part = sparse.eye(2 ** (n - 1 - k))\n",
    "\n",
    "    return sparse.kron(\n",
    "        sparse.kron(\n",
    "            left_part,\n",
    "            sparse.csr_matrix(np.array([[1, 0,], [0, -1,],]))\n",
    "        ),\n",
    "        right_part\n",
    "    )\n",
    "\n",
    "def probs2bit_str(probs: np.array) -> str:\n",
    "    size = int(np.log2(probs.shape[0]))\n",
    "    bit_s_num = np.where(probs == probs.max())[0][0]\n",
    "    s = f\"{bit_s_num:b}\"\n",
    "    s = \"0\" * (size - len(s)) + s\n",
    "\n",
    "    return s\n",
    "\n",
    "for i, psi in enumerate(eigs[1]):\n",
    "    probs = psi * psi.conj()\n",
    "    bit_s = probs2bit_str(probs)\n",
    "    print(f\"Eigenvalue: {eigs[0][i]}\\tBit string: {bit_s}\")"
   ]
  },
  {
   "cell_type": "markdown",
   "id": "092ad0eb",
   "metadata": {},
   "source": [
    "Убедимся также в совпадении собственных векторов с матрицей $\\sigma^z$:\n",
    "\n",
    "```{note}\n",
    "Для чистых состояний без запутывания матрицы собственных векторов могут быть приведены к виду единичных матриц. И действительно, каждый собственный вектор отвечает строго одной конфигурации спинов, а значит его волновая функция имеет вид $\\ket{\\Psi} = \\ket{0, 0, ..., 1, ..., 0, 0}$, где 1 соответствует как раз номеру той битовой строки, которая отвечает этой конфигурации.\n",
    "```"
   ]
  },
  {
   "cell_type": "code",
   "execution_count": null,
   "id": "83246892",
   "metadata": {},
   "outputs": [],
   "source": [
    "print(f\"Sigma z_mod:\\n{eigs[1]}\")\n",
    "print(f\"\\nSigma z:\\n{np.linalg.eig(sigmaz_k(1, 3).toarray())[1]}\")"
   ]
  },
  {
   "cell_type": "markdown",
   "id": "e5566c29",
   "metadata": {},
   "source": [
    "```{note}\n",
    "В общем случае, даже если у двух операторов совпадают собственные вектора, то их порядок (по возрастанию собственных значений) совпадать совсем не обязан. В этом легко убедиться, например, если поменять местами $\\hat{1}$ и $\\hat{\\sigma^z}$ в $\\sigma^{z_{mod}}$. Поэтому, чтобы избежать ошибок в будущем, лучше не привыкать сравнивать матрицы собственных векторов при помощи `np.allclose`, а сравнивать их глазами построчно.\n",
    "```\n",
    "\n",
    "## Гамильтониан задачи TSP\n",
    "\n",
    "Давайте еще раз выпишем полный гамильтониан системы. Напомню, что задача будет параметризована при помощи $N^2$ кубит, которые для удобства выстроены в виде матрицы, где $i$-я строка соответствует $i$-му шагу в цикле по графу, а $j$-й элемент строки соответствует номеру вершины и является бинарным оператором:\n",
    "\n",
    "$$\n",
    "\\hat{H} = a\\sum_{i=1}^N (1 - \\sum_{j=1}^N \\sigma^{z_{mod}}_{i,j})^2 + a\\sum_{j=1}^N (1 - \\sum_{i=1}^N \\sigma^{z_{mod}}_{i,j})^2 + a \\sum_{u,v \\not\\in E}\\sum_{j=1}^{N-1}\\sigma^{z_{mod}}_{u,j}\\sigma^{z_{mod}}_{v,j+1} + b \\sum_{u,v \\in E}\\sum_{j=1}^{N-1}\\sigma^{z_{mod}}_{u,j}\\sigma^{z_{mod}}_{v,j+1}\n",
    "$$\n",
    "\n",
    "```{note}\n",
    "Еще раз вспомним, что первые два слагаемых \"говорят\": каждая вершина должна входить только в один столбец, а каждая строка должна содержать только одну вершину. Третье слагаемое представляет собой штраф за соединение вершин, между которыми нет ребра, а четвертое дает стоимость всего пути. Первые три слагаемых идут с бОльшим коэффициентом, чем последнее, так как нам важно в первую очередь получить реальное решение, а не получить самое дешевое.\n",
    "```\n",
    "\n",
    "Сделаем финт ушами: будем всегда считать, что путь коммивояжера начинается в вершине с индексом 0. Так как путь коммивояжера это гамильтонов цикл, то делаем это упрощение без какой-либо потери общности, так как вершина с индексом 0 все равно должна будет войти в путь. При этом такой хитрый трюк позволит снизить число необходимых кубит с $N^2$ до $(N - 1)^2$, что довольно существенно (хотя асимптотическая сложность остается такой же). Работать с графом будем при помощи уже знакомой библиотеки `NetworkX`:"
   ]
  },
  {
   "cell_type": "code",
   "execution_count": null,
   "id": "c8ca891f",
   "metadata": {},
   "outputs": [],
   "source": [
    "def convert_tsp_to_ising(g: nx.Graph) -> sparse.coo_matrix:\n",
    "    # Имеется два элемента гамильтониана:\n",
    "    #  - часть, дающая нам Гамилтонов цикл\n",
    "    #  - часть, считающая стоимость пути\n",
    "    # Для нас важно, чтобы вес первой части превалирвал.\n",
    "    # Поэтому, в качестве коэффициента берем\n",
    "    # пятикратное значение максимального веса ребер в графе.\n",
    "\n",
    "    a = 5 * max([e[2][\"weight\"] for e in g.edges(data=True)])\n",
    "    size = g.number_of_nodes() - 1\n",
    "\n",
    "    H = sparse.coo_matrix((2 ** (size ** 2), 2 ** (size ** 2)), dtype=np.complex128)\n",
    "\n",
    "    # Вычисляем сумму по колонкам:\n",
    "    #   - каждая вершина должна быть в каждой колонке строго один раз\n",
    "    for i in range(size):\n",
    "        # Считаем выражение 1 - sum\n",
    "        col_sum = sparse.eye(2 ** (size ** 2), format=\"coo\")\n",
    "        for j in range(size):\n",
    "            col_sum -= sigma_z_mod(i + j * size, size ** 2)\n",
    "\n",
    "        # Возводим в квадрат и добавляем к гамилтониану\n",
    "        H += a * col_sum * col_sum\n",
    "\n",
    "    # Вычисляем сумму по строкам:\n",
    "    #   - каждая вершина должна быть в каждой строке строго один раз\n",
    "    for j in range(size):\n",
    "        row_sum = sparse.eye(2 ** (size ** 2), format=\"coo\")\n",
    "        for i in range(size):\n",
    "            row_sum -= sigma_z_mod(i + j * size, size ** 2)\n",
    "\n",
    "        # Аналогично, в квадрат и добавляем\n",
    "        H += a * row_sum * row_sum\n",
    "\n",
    "    # Считаем сумму по тем ребрам, которых в графе нет и тем, которые есть.\n",
    "    for i in range(size):\n",
    "        for j in range(size):\n",
    "            if g.has_edge(i + 1, j + 1):\n",
    "                # Сумма по всем ребрам графа\n",
    "                coef = g.get_edge_data(i + 1, j + 1)[\"weight\"]\n",
    "            else:\n",
    "                # Сумма по всем отсутствующим ребрам графа\n",
    "                coef = a\n",
    "\n",
    "            for k in range(size - 1):\n",
    "                # Дальше просто используем полученный коэффициент и считаем сумму\n",
    "                H += (\n",
    "                    coef\n",
    "                    * sigma_z_mod(i + k * size, size ** 2)\n",
    "                    * sigma_z_mod(j + (k + 1) * size, size ** 2)\n",
    "                )\n",
    "\n",
    "            H += (\n",
    "                coef\n",
    "                * sigma_z_mod(i + (size - 1) * size, size ** 2)\n",
    "                * sigma_z_mod(j, size ** 2)\n",
    "            )\n",
    "\n",
    "    # Начинаем всегда из нулевой вершины, это позволяет снизить число необходимых кубитов.\n",
    "    # Теперь должны добавить в гамильтониан слагаемое, отвечающее за нулевую вершину в пути.\n",
    "    for j in range(size):\n",
    "        if g.has_edge(0, j + 1):\n",
    "            coef = g.get_edge_data(0, j + 1)[\"weight\"]\n",
    "        else:\n",
    "            coef = a\n",
    "\n",
    "        H += coef * sigma_z_mod(j, size ** 2)\n",
    "        H += coef * sigma_z_mod(j + (size - 1) * size, size ** 2)\n",
    "\n",
    "    # PennyLane работает с матрицами только в координатном формате, поэтому сразу делаем приведение.\n",
    "    return sparse.coo_matrix(H)"
   ]
  },
  {
   "cell_type": "markdown",
   "id": "6f0503e7",
   "metadata": {},
   "source": [
    "Убедимся, что точное решение даст тот же путь (с той же стоимостью), что и решение из `NetworkX`:"
   ]
  },
  {
   "cell_type": "code",
   "execution_count": null,
   "id": "b85c2028",
   "metadata": {},
   "outputs": [],
   "source": [
    "op = convert_tsp_to_ising(g)\n",
    "scipy_solution = sl.eigs(op, k=1, which=\"SR\", return_eigenvectors=True)\n",
    "print(f\"Ground state energy: {scipy_solution[0][0]:.4f}\")\n",
    "\n",
    "probs = scipy_solution[1] * scipy_solution[1].conj()\n",
    "bit_s = probs2bit_str(probs)\n",
    "\n",
    "# Нулевая вершина всегда первая\n",
    "scipy_path = [0,]\n",
    "\n",
    "for i in range(3):\n",
    "    k = 0\n",
    "    for j in range(3):\n",
    "        if bit_s[j + i * 3] == \"0\":\n",
    "            k = j + 1\n",
    "    scipy_path.append(k)\n",
    "scipy_path.append(0)\n",
    "\n",
    "scipy_solution_cost = 0\n",
    "for i in range(len(scipy_path) - 1):\n",
    "    scipy_solution_cost += g.get_edge_data(scipy_path[i], scipy_path[i + 1])[\"weight\"]\n",
    "\n",
    "print(f\"SciPy solution (nodes order): {scipy_path}\")\n",
    "print(f\"SciPy solution (total cost): {scipy_solution_cost}\")"
   ]
  },
  {
   "cell_type": "markdown",
   "id": "58ae95a6",
   "metadata": {},
   "source": [
    "Видим, что решение через матрицу совпадает с тем, что выдал `NetworkX` (с точностью до инверсии: `[0, 2, 1, 3, 0]` и `[0, 3, 1, 2, 0]`), как и общая стоимость пути. Энергия основного состояния отличается по причине того, что использовали оптимизацию и магию с коэффициентами. Но это не так важно: по энергиям важно лишь отношение порядка, потому что зная битовую строку всегда можем проверить стоимость пути за линейное время!\n",
    "\n",
    "Теперь можно наконец-то, приступать к симуляции квантовых вычислений!\n",
    "\n",
    "## VQE на Pennylane\n",
    "\n",
    "Для начала давайте преобразуем матрицу к тому объекту, с которым умеет работать квантовый фреймворк.\n",
    "\n",
    "```{note}\n",
    "`Pennylane` поддерживает также работу с представлением гамильтонианов в виде так называемых Паули-строк, но тут не будем еще раз определять весь гамильтониан, а просто перериспользуем разреженную матрицу.\n",
    "```\n",
    "\n",
    "Веса графа имеют разброс значений от 0 до 100. Из-за этого, при некоторых конфигурациях можем получать очень большое собственное значение гамильтониана, вплоть до нескольких тысяч. Это не очень хорошо для градиентного спуска методом `paramter-shift`, поэтому для численной устойчивости давайте умножим все значения весов на $0.1$. Это сделает градиенты не слишком большими и улучшит численную устойчивость. Делать это можно совершенно спокойно, так как не критична численная величина минимального собственного, а важно лишь отношение порядка собственных значений."
   ]
  },
  {
   "cell_type": "code",
   "execution_count": null,
   "id": "2e851280",
   "metadata": {},
   "outputs": [],
   "source": [
    "import pennylane as qml\n",
    "\n",
    "numer_stability_const = 0.1\n",
    "ham = qml.SparseHamiltonian(op * numer_stability_const, wires=list(range(9)))"
   ]
  },
  {
   "cell_type": "markdown",
   "id": "015aeb56",
   "metadata": {},
   "source": [
    "Далее необходимо выбрать _ansatz_. Современные квантовые процессоры обычно имеют вид решетки, типа такого:\n",
    "\n",
    "```{figure} /_static/progblock/tfq/sycamore.png\n",
    ":width: 350px\n",
    ":name: sycamore_lattice\n",
    "\n",
    "Схематичное изображение квантового компьютера _Sycamore_ от компании _Google_ {cite}`sycamore`\n",
    "```\n",
    "\n",
    "Поэтому, в идеале, хотелось бы делать либо однокубитные операции, либо двухкубитные операции, но над \"соседними\" кубитами. Так появилась идея _hardware efficient ansatz_ {cite}`hardware_ansatz`. Он заключается в том, что формируется несколько \"слоев\" **VQC**, где каждый такой слой содержит несколько операций вращений, а также попарные \"запутывающие\" операции (например, [_CZ_](../qcblock/gates.html#cy-cz), или гейт [_CNOT_](../qcblock/gates.html#cnot-cx)). Выглядит это примерно так:\n",
    "\n",
    "```{figure} /_static/vqeblock/vqe/HWA.png\n",
    ":width: 400px\n",
    "\n",
    "Иллюстрация _hardware efficient ansatz_ (_HWEA_) из {cite}`hardware_ansatz`\n",
    "```\n",
    "\n",
    "Давайте реализуем такой слой:"
   ]
  },
  {
   "cell_type": "code",
   "execution_count": null,
   "id": "52abda93",
   "metadata": {},
   "outputs": [],
   "source": [
    "size = len(ham.wires)\n",
    "\n",
    "def layer(params):\n",
    "    for i in range(size):\n",
    "        qml.RY(params[i][0], wires=i)\n",
    "        qml.RZ(params[i][1], wires=i)\n",
    "\n",
    "    for i in range(size - 1):\n",
    "        qml.CZ(wires=[i, i + 1])"
   ]
  },
  {
   "cell_type": "markdown",
   "id": "74627b8c",
   "metadata": {},
   "source": [
    "Здесь специально не повторяем основ параметризированных квантовых схем. Для тех, кто забыл, что это такое, рекомендуем вернуться к [отдельной лекции](vqc) по этой теме.\n",
    "\n",
    "Теперь создадим устройство, которое будет квантовым симулятором, а также напишем код, который будет на этом устройстве запускаться. Такой код должен последовательно применить несколько _HWEA_ слоев, после чего измерить ожидаемое значение гамильтониана в полученном состоянии."
   ]
  },
  {
   "cell_type": "code",
   "execution_count": null,
   "id": "5a5e05b7",
   "metadata": {},
   "outputs": [],
   "source": [
    "device = qml.device(\"default.qubit\", wires=size)\n",
    "num_layers = 3\n",
    "\n",
    "@qml.qnode(device, diff_method=\"parameter-shift\")\n",
    "def feed_forward(params, wires=size):\n",
    "    for k in range(3):\n",
    "        layer(params[k])\n",
    "\n",
    "    for i in range(size):\n",
    "        qml.RY(params[-1][i][0], wires=i)\n",
    "        qml.RZ(params[-1][i][1], wires=i)\n",
    "\n",
    "    return qml.expval(ham)"
   ]
  },
  {
   "cell_type": "markdown",
   "id": "2e76fd55",
   "metadata": {},
   "source": [
    "Теперь надо сгенерировать параметры и выбрать метод их оптимизации. В этот раз давайте воспользуемся алгоритмом `Momentum`, так называемым \"ускоренным\" градиентным спуском:"
   ]
  },
  {
   "cell_type": "code",
   "execution_count": null,
   "id": "ec286c13",
   "metadata": {},
   "outputs": [],
   "source": [
    "opt = qml.MomentumOptimizer()\n",
    "params = tuple(\n",
    "    tuple(\n",
    "        (\n",
    "            np.random.rand() * 2 * np.pi,\n",
    "            np.random.rand() * 2 * np.pi,\n",
    "        )\n",
    "        for _ in range(size)\n",
    "    )\n",
    "    for _ in range(num_layers + 1)\n",
    ")"
   ]
  },
  {
   "cell_type": "markdown",
   "id": "10e1e1d3",
   "metadata": {},
   "source": [
    "Ну и наконец можно приступать к оптимизации параметров. Все примерно также, как в [базовой лекции про градиенты](gradients). То есть ничего нового тут по сути не делается.\n",
    "\n",
    "## Симуляция\n",
    "\n",
    "```{warning}\n",
    "Осторожно, следующий код работает несколько минут, так как обучаем довольно тяжелую схему на 9-и кубитах! Кстати, при желании можно добиться гораздо больше точности по энергии относительно точного решения. Для этого достаточно установить число эпох $\\sim 150$. Но поскольку этот код исполняется при сборке данных лекций, то мы не можем себе позволить считать отдельные страницы по 7-10 минут. Читателю рекомендуется самостоятельно определить то число эпох, которого достаточно, чтобы получить точность в 3-м знаке после запятой.\n",
    "```"
   ]
  },
  {
   "cell_type": "code",
   "execution_count": null,
   "id": "2cb14f71",
   "metadata": {},
   "outputs": [],
   "source": [
    "energy = [\n",
    "    feed_forward(params),\n",
    "]\n",
    "\n",
    "for epoch in range(85):\n",
    "    params, e = opt.step_and_cost(feed_forward, params)\n",
    "    energy.append(e)\n",
    "\n",
    "    if epoch % 5 == 0:\n",
    "        print(f\"epoch: {epoch}\\tenergy: {e:.6f}\")"
   ]
  },
  {
   "cell_type": "code",
   "execution_count": null,
   "id": "698a1586",
   "metadata": {},
   "outputs": [],
   "source": [
    "plt.figure(figsize=(10, 8))\n",
    "plt.plot(np.arange(len(energy)), energy, \".-\", label=\"Energy by epochs\")\n",
    "plt.hlines(\n",
    "    np.real(scipy_solution[0][0]) * numer_stability_const,\n",
    "    0,\n",
    "    len(energy),\n",
    "    color=\"red\",\n",
    "    label=\"Exact solution\",\n",
    ")\n",
    "plt.xlabel(\"Epoch\")\n",
    "plt.ylabel(\"Energy\")\n",
    "plt.legend()\n",
    "plt.show()"
   ]
  },
  {
   "cell_type": "markdown",
   "id": "104728bd",
   "metadata": {},
   "source": [
    "Видим, что **VQE** отлично сходится к основному состоянию, которое знаем из `SciPy` и `ARPACK`. Теперь давайте убедимся, что квантовый путь совпадет с тем, что получили из `NetworkX`. Для этого нужно получить распределение вероятностей битовых строк. На реальном компьютере это можно сделать просто измеряя много раз, но на симуляторе есть возможность получить его сразу одной командой."
   ]
  },
  {
   "cell_type": "code",
   "execution_count": null,
   "id": "64655a95",
   "metadata": {},
   "outputs": [],
   "source": [
    "@qml.qnode(device, diff_method=\"parameter-shift\")\n",
    "def answer(params, wires=size):\n",
    "    for k in range(num_layers):\n",
    "        layer(params[k])\n",
    "\n",
    "    for i in range(size):\n",
    "        qml.RY(params[-1][i][0], wires=i)\n",
    "        qml.RZ(params[-1][i][1], wires=i)\n",
    "\n",
    "    return qml.probs(wires=list(range(size)))\n",
    "\n",
    "probs = answer(params)\n",
    "bit_s = probs2bit_str(probs)\n",
    "\n",
    "# Нулевая вершина всегда первая\n",
    "q_path = [0,]\n",
    "\n",
    "for i in range(3):\n",
    "    k = 0\n",
    "    for j in range(3):\n",
    "        if bit_s[j + i * 3] == \"0\":\n",
    "            k = j + 1\n",
    "    q_path.append(k)\n",
    "q_path.append(0)\n",
    "\n",
    "q_solution_cost = 0\n",
    "for i in range(len(q_path) - 1):\n",
    "    q_solution_cost += g.get_edge_data(q_path[i], q_path[i + 1])[\"weight\"]\n",
    "\n",
    "print(f\"Quantum solution (nodes order): {q_path}\")\n",
    "print(f\"Quantum solution (total cost): {q_solution_cost}\")"
   ]
  },
  {
   "cell_type": "markdown",
   "id": "301bb9c8",
   "metadata": {},
   "source": [
    "Ура, получился тот же ответ, что и в `SciPy`/`NetworkX`. Значит самописный **VQE** работает правильно.\n",
    "\n",
    "## Заключение\n",
    "\n",
    "В этой лекции попрактиковались в решение реальных задач при помощи алгоритма **VQE**."
   ]
  }
 ],
 "metadata": {
  "jupytext": {
   "formats": "md:myst",
   "text_representation": {
    "extension": ".md",
    "format_name": "myst"
   }
  },
  "kernelspec": {
   "display_name": "Python 3",
   "language": "python",
   "name": "python3"
  },
  "source_map": [
   11,
   28,
   36,
   46,
   49,
   53,
   56,
   60,
   70,
   76,
   85,
   91,
   107,
   111,
   114,
   118,
   143,
   151,
   154,
   174,
   246,
   250,
   275,
   291,
   296,
   317,
   327,
   333,
   347,
   351,
   363,
   373,
   386,
   400,
   404,
   436
  ]
 },
 "nbformat": 4,
 "nbformat_minor": 5
}