{
 "cells": [
  {
   "cell_type": "code",
   "execution_count": 1,
   "id": "31264aaa",
   "metadata": {},
   "outputs": [],
   "source": [
    "import psi4\n",
    "psi4.core.be_quiet() # отключаем логирование в stdout\n",
    "\n",
    "h_atom = psi4.geometry(\"H\")"
   ]
  },
  {
   "cell_type": "code",
   "execution_count": 2,
   "id": "b127d49d",
   "metadata": {},
   "outputs": [],
   "source": [
    "psi4.set_options({\n",
    "  'basis': 'STO-3G',\n",
    "  'reference': 'rohf',\n",
    "})"
   ]
  },
  {
   "cell_type": "code",
   "execution_count": 3,
   "id": "0c7f95ac",
   "metadata": {},
   "outputs": [
    {
     "name": "stdout",
     "output_type": "stream",
     "text": [
      "Hydrogen ground state energy: -12.696338923670487 eV\n"
     ]
    }
   ],
   "source": [
    "from scipy.constants import physical_constants\n",
    "\n",
    "h2ev = physical_constants['hartree-electron volt relationship']\n",
    "\n",
    "def e_in_ev(energy_in_ht):\n",
    "    return energy_in_ht * h2ev[0]\n",
    "\n",
    "# энергия в единицах Hartree\n",
    "e_in_ht = psi4.energy('scf')\n",
    "\n",
    "print(f\"Hydrogen ground state energy: {e_in_ev(e_in_ht)} eV\")"
   ]
  },
  {
   "cell_type": "code",
   "execution_count": 4,
   "id": "2828f936",
   "metadata": {},
   "outputs": [],
   "source": [
    "e_in_ht = psi4.energy('scf')"
   ]
  },
  {
   "cell_type": "code",
   "execution_count": 5,
   "id": "9f24256e",
   "metadata": {},
   "outputs": [],
   "source": [
    "psi4.set_options(\n",
    "  {\n",
    "    'basis': 'STO-3G',\n",
    "    'reference': 'rohf',\n",
    "  }\n",
    ")"
   ]
  },
  {
   "cell_type": "code",
   "execution_count": 6,
   "id": "c433f967",
   "metadata": {},
   "outputs": [
    {
     "name": "stdout",
     "output_type": "stream",
     "text": [
      "Better hydrogen ground state energy: -13.605551648965209 eV\n"
     ]
    }
   ],
   "source": [
    "psi4.core.clean()\n",
    "\n",
    "h_atom = psi4.geometry(\"H\")\n",
    "\n",
    "psi4.set_options({\n",
    "  'basis': 'd-aug-cc-pv5z', # разбор этого базиса выходит за рамки этого интро\n",
    "  'scf_type': 'pk',\n",
    "  'reference': 'rohf',\n",
    "})\n",
    "\n",
    "e_in_ht = psi4.energy('scf')\n",
    "\n",
    "print(f\"Better hydrogen ground state energy: {e_in_ev(e_in_ht)} eV\")"
   ]
  },
  {
   "cell_type": "code",
   "execution_count": 7,
   "id": "c3172f43",
   "metadata": {},
   "outputs": [
    {
     "name": "stdout",
     "output_type": "stream",
     "text": [
      "Helium ground state energy: -76.403693763909 eV\n"
     ]
    }
   ],
   "source": [
    "psi4.core.clean()\n",
    "\n",
    "he_atom = psi4.geometry(\"He\")\n",
    "\n",
    "psi4.set_options({\n",
    "  'basis': 'STO-3G',\n",
    "  'reference': 'rohf',\n",
    "})\n",
    "\n",
    "e_in_ht = psi4.energy('scf')\n",
    "\n",
    "print(f\"Helium ground state energy: {e_in_ev(e_in_ht)} eV\")"
   ]
  },
  {
   "cell_type": "code",
   "execution_count": 8,
   "id": "ec3a178e",
   "metadata": {},
   "outputs": [
    {
     "name": "stdout",
     "output_type": "stream",
     "text": [
      "Hydrogen ground state energy: -30.388568856869107 eV\n"
     ]
    }
   ],
   "source": [
    "psi4.core.clean()\n",
    "\n",
    "# задаем 2 атома водорода с явными координатами\n",
    "h_mol = psi4.geometry(\"\"\"\n",
    "H 0 0 0\n",
    "H 0 0 0.74\n",
    "\"\"\")\n",
    "\n",
    "psi4.set_options({\n",
    "  'basis': 'STO-3G',\n",
    "  'reference': 'rohf',\n",
    "})\n",
    "\n",
    "e_in_ht_h = psi4.energy('scf', molecule=h_mol)\n",
    "\n",
    "print(f\"Hydrogen ground state energy: {e_in_ev(e_in_ht_h)} eV\")"
   ]
  },
  {
   "cell_type": "code",
   "execution_count": 9,
   "id": "cfa9c974",
   "metadata": {},
   "outputs": [
    {
     "name": "stdout",
     "output_type": "stream",
     "text": [
      "Optimizer: Optimization complete!\n",
      "Hydrogen molecule, incorrect ground state energy: -24.786132109551904 eV\n",
      "Hydrogen molecule, optimized ground state energy: -30.408884228181364 eV\n"
     ]
    }
   ],
   "source": [
    "psi4.core.clean()\n",
    "\n",
    "h_mol_bad = psi4.geometry(\"\"\"\n",
    "H 0 0 0\n",
    "H 0 0 1.5\n",
    "\"\"\")\n",
    "# 1.5 - неверное расстояние в ангстремах, верное - 0.74\n",
    "\n",
    "psi4.set_options({\n",
    "  'basis': 'STO-3G',\n",
    "  'reference': 'rohf',\n",
    "})\n",
    "\n",
    "# рассчитываем энергию \"в точке\" с неправильной геометрией\n",
    "e_in_ht_h_bad = psi4.energy('scf', molecule=h_mol_bad)\n",
    "\n",
    "# рассчитываем энергию, оптимизируя по ходу геометрию\n",
    "e_in_ht_h_optimized = psi4.optimize('scf', molecule=h_mol_bad)\n",
    "\n",
    "print(f\"Hydrogen molecule, incorrect ground state energy: {e_in_ev(e_in_ht_h_bad)} eV\")\n",
    "print(f\"Hydrogen molecule, optimized ground state energy: {e_in_ev(e_in_ht_h_optimized)} eV\")"
   ]
  },
  {
   "cell_type": "code",
   "execution_count": 10,
   "id": "bdc81b79",
   "metadata": {},
   "outputs": [
    {
     "name": "stdout",
     "output_type": "stream",
     "text": [
      "\tSearching PubChem database for ethanol (single best match returned)\n"
     ]
    },
    {
     "name": "stdout",
     "output_type": "stream",
     "text": [
      "\tFound 1 result(s)\n"
     ]
    },
    {
     "name": "stdout",
     "output_type": "stream",
     "text": [
      "Ethanol ground state energy: -4139.645908265883 eV\n"
     ]
    }
   ],
   "source": [
    "psi4.core.clean()\n",
    "\n",
    "eth = psi4.geometry(\"pubchem:ethanol\")\n",
    "\n",
    "psi4.set_options({\n",
    "  'basis': 'STO-3G',\n",
    "  'reference': 'rohf',\n",
    "})\n",
    "\n",
    "e_in_ht_eth = psi4.energy('scf', molecule=eth)\n",
    "\n",
    "print(f\"Ethanol ground state energy: {e_in_ev(e_in_ht_eth)} eV\")"
   ]
  }
 ],
 "metadata": {
  "jupytext": {
   "formats": "md:myst",
   "text_representation": {
    "extension": ".md",
    "format_name": "myst"
   }
  },
  "kernelspec": {
   "display_name": "Python 3",
   "language": "python",
   "name": "python3"
  },
  "language_info": {
   "codemirror_mode": {
    "name": "ipython",
    "version": 3
   },
   "file_extension": ".py",
   "mimetype": "text/x-python",
   "name": "python",
   "nbconvert_exporter": "python",
   "pygments_lexer": "ipython3",
   "version": "3.8.12"
  },
  "source_map": [
   11,
   168,
   173,
   177,
   182,
   186,
   198,
   314,
   316,
   320,
   327,
   335,
   349,
   359,
   372,
   380,
   397,
   405,
   427,
   439,
   452
  ]
 },
 "nbformat": 4,
 "nbformat_minor": 5
}