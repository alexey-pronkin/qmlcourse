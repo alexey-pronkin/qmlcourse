{
 "cells": [
  {
   "cell_type": "code",
   "execution_count": 1,
   "id": "a0560864",
   "metadata": {},
   "outputs": [
    {
     "data": {
      "text/html": [
       "<pre style=\"word-wrap: normal;white-space: pre;background: #fff0;line-height: 1.1;font-family: &quot;Courier New&quot;,Courier,monospace\">        ┌───┐      ░ ┌───┐ ░      ┌───┐ ░ ┌─┐   \n",
       "   q_0: ┤ H ├──■───░─┤ Z ├─░───■──┤ H ├─░─┤M├───\n",
       "        └───┘┌─┴─┐ ░ └───┘ ░ ┌─┴─┐└───┘ ░ └╥┘┌─┐\n",
       "   q_1: ─────┤ X ├─░───────░─┤ X ├──────░──╫─┤M├\n",
       "             └───┘ ░       ░ └───┘      ░  ║ └╥┘\n",
       "meas: 2/═══════════════════════════════════╩══╩═\n",
       "                                           0  1 </pre>"
      ],
      "text/plain": [
       "        ┌───┐      ░ ┌───┐ ░      ┌───┐ ░ ┌─┐   \n",
       "   q_0: ┤ H ├──■───░─┤ Z ├─░───■──┤ H ├─░─┤M├───\n",
       "        └───┘┌─┴─┐ ░ └───┘ ░ ┌─┴─┐└───┘ ░ └╥┘┌─┐\n",
       "   q_1: ─────┤ X ├─░───────░─┤ X ├──────░──╫─┤M├\n",
       "             └───┘ ░       ░ └───┘      ░  ║ └╥┘\n",
       "meas: 2/═══════════════════════════════════╩══╩═\n",
       "                                           0  1 "
      ]
     },
     "execution_count": 1,
     "metadata": {},
     "output_type": "execute_result"
    }
   ],
   "source": [
    "from qiskit import QuantumCircuit\n",
    "\n",
    "qc = QuantumCircuit(2)\n",
    "\n",
    "# готовим состояние beta_{00} из стартового состояния |00>:\n",
    "qc.h(0)\n",
    "qc.cx(0, 1)\n",
    "\n",
    "# визуальный разделитель при отрисовке схемы:\n",
    "qc.barrier()\n",
    "\n",
    "# выбираем какое-либо сообщение из набора в assert-выражении ниже:\n",
    "message = '10'\n",
    "\n",
    "assert message in ('00', '01', '10', '11')\n",
    "\n",
    "# Алиса выполняет кодирование сообщения:\n",
    "if message[1] == \"1\":\n",
    "    qc.x(0)\n",
    "if message[0] == \"1\":\n",
    "    qc.z(0)\n",
    "\n",
    "qc.barrier()\n",
    "\n",
    "# Боб декодирует сообщение:\n",
    "qc.cx(0, 1)\n",
    "qc.h(0)\n",
    "\n",
    "# Боб измеряет двухкубитную систему целиком (в вычислительном базисе):\n",
    "qc.measure_all()\n",
    "\n",
    "qc.draw()"
   ]
  },
  {
   "cell_type": "code",
   "execution_count": 2,
   "id": "8acd0c04",
   "metadata": {},
   "outputs": [
    {
     "name": "stdout",
     "output_type": "stream",
     "text": [
      "message was '10' -> the measurement result is {'01': 1024} (<- NOTE: the keys are little-endian!)\n"
     ]
    }
   ],
   "source": [
    "from qiskit import Aer\n",
    "\n",
    "aer_sim = Aer.get_backend('aer_simulator')\n",
    "result = aer_sim.run(qc).result()\n",
    "counts = result.get_counts(qc)\n",
    "\n",
    "print(\n",
    "    f\"message was '{message}' -> the measurement result is {counts}\"\n",
    "    \" (<- NOTE: the keys are little-endian!)\"\n",
    ")"
   ]
  }
 ],
 "metadata": {
  "jupytext": {
   "formats": "md:myst",
   "text_representation": {
    "extension": ".md",
    "format_name": "myst"
   }
  },
  "kernelspec": {
   "display_name": "Python 3",
   "language": "python",
   "name": "python3"
  },
  "language_info": {
   "codemirror_mode": {
    "name": "ipython",
    "version": 3
   },
   "file_extension": ".py",
   "mimetype": "text/x-python",
   "name": "python",
   "nbconvert_exporter": "python",
   "pygments_lexer": "ipython3",
   "version": "3.8.12"
  },
  "source_map": [
   11,
   66,
   99,
   103,
   114
  ]
 },
 "nbformat": 4,
 "nbformat_minor": 5
}