{
 "cells": [
  {
   "cell_type": "code",
   "execution_count": 1,
   "id": "1bf60e03",
   "metadata": {},
   "outputs": [
    {
     "name": "stdout",
     "output_type": "stream",
     "text": [
      "True\n"
     ]
    }
   ],
   "source": [
    "import numpy as np\n",
    "import scipy as sp\n",
    "from scipy import linalg\n",
    "\n",
    "U_hat = np.array([\n",
    "    [1 + 0j, 0 + 0j],\n",
    "    [0 + 0j, 1 + 0j]\n",
    "    ])\n",
    "\n",
    "U_hat_star_byhands = U_hat.conj().T\n",
    "U_hat_star_long = np.conjugate(np.transpose(U_hat))\n",
    "\n",
    "print(np.allclose(U_hat_star_long, U_hat_star_byhands))"
   ]
  },
  {
   "cell_type": "code",
   "execution_count": 2,
   "id": "574153fb",
   "metadata": {},
   "outputs": [
    {
     "name": "stdout",
     "output_type": "stream",
     "text": [
      "U = array([[ 3.00000000e+00+0.00000000e+00j,  1.00000000e+00+1.73205081e+00j,\n",
      "        -1.11022302e-16+7.77156117e-16j],\n",
      "       [ 1.00000000e+00-1.73205081e+00j,  3.00000000e+00-3.98552134e-18j,\n",
      "         1.00000000e+00+1.73205081e+00j],\n",
      "       [-1.11022302e-16-7.77156117e-16j,  1.00000000e+00-1.73205081e+00j,\n",
      "         3.00000000e+00-1.88596895e-17j]])\n",
      "D = array([[ 1. +0.j       ,  1. +0.j       ,  1. +0.j       ],\n",
      "       [ 1. +0.j       ,  0.5-0.8660254j, -0.5-0.8660254j],\n",
      "       [ 1. +0.j       , -0.5-0.8660254j, -0.5+0.8660254j]])\n",
      "np.allclose(U @ U.T.conj(), np.eye(N)) = False\n",
      "\n",
      "np.allclose(U_hat @ U_hat.conj().T, np.eye(N)) = True\n",
      "\n",
      "np.allclose(U_hat.conj().T @ U_hat, np.eye(N)) = True\n"
     ]
    }
   ],
   "source": [
    "N = 3\n",
    "w = np.sqrt(np.exp(-1j * 2 * np.pi / N))\n",
    "\n",
    "D = np.array([\n",
    "    [1, 1, 1],\n",
    "    [1, w, w ** 2],\n",
    "    [1, w ** 2, w ** 4]\n",
    "    ])\n",
    "\n",
    "U = D @ D.conj().T\n",
    "print(f\"{U = }\")\n",
    "\n",
    "print(f\"{D = }\")\n",
    "print(f\"{np.allclose(U @ U.T.conj(), np.eye(N)) = }\") # no\n",
    "\n",
    "U_hat = linalg.expm(1j * U)\n",
    "print(f\"\\n{np.allclose(U_hat @ U_hat.conj().T, np.eye(N)) = }\")\n",
    "print(f\"\\n{np.allclose(U_hat.conj().T @ U_hat, np.eye(N)) = }\")"
   ]
  }
 ],
 "metadata": {
  "jupytext": {
   "formats": "md:myst",
   "text_representation": {
    "extension": ".md",
    "format_name": "myst"
   }
  },
  "kernelspec": {
   "display_name": "Python 3",
   "language": "python",
   "name": "python3"
  },
  "language_info": {
   "codemirror_mode": {
    "name": "ipython",
    "version": 3
   },
   "file_extension": ".py",
   "mimetype": "text/x-python",
   "name": "python",
   "nbconvert_exporter": "python",
   "pygments_lexer": "ipython3",
   "version": "3.8.12"
  },
  "source_map": [
   11,
   91,
   105,
   147,
   166
  ]
 },
 "nbformat": 4,
 "nbformat_minor": 5
}