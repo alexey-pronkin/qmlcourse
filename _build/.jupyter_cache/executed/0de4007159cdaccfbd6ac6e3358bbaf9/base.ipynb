{
 "cells": [
  {
   "cell_type": "code",
   "execution_count": 1,
   "id": "01625188",
   "metadata": {},
   "outputs": [
    {
     "name": "stdout",
     "output_type": "stream",
     "text": [
      "Hydrogen Bohr ground state energy: -13.605693122885837 eV\n"
     ]
    }
   ],
   "source": [
    "from scipy import constants as consts\n",
    "\n",
    "# постоянная кулона\n",
    "k = (1 / (4 * consts.pi * consts.epsilon_0))\n",
    "\n",
    "# энергия в Джоулях\n",
    "E1 = - k**2 * consts.m_e * consts.e**4 / (2 * consts.hbar ** 2)\n",
    "\n",
    "# энергия в электрон-вольтах\n",
    "E1_ev = E1 / consts.e\n",
    "\n",
    "print(f\"Hydrogen Bohr ground state energy: {E1_ev} eV\")"
   ]
  }
 ],
 "metadata": {
  "jupytext": {
   "formats": "md:myst",
   "text_representation": {
    "extension": ".md",
    "format_name": "myst"
   }
  },
  "kernelspec": {
   "display_name": "Python 3",
   "language": "python",
   "name": "python3"
  },
  "language_info": {
   "codemirror_mode": {
    "name": "ipython",
    "version": 3
   },
   "file_extension": ".py",
   "mimetype": "text/x-python",
   "name": "python",
   "nbconvert_exporter": "python",
   "pygments_lexer": "ipython3",
   "version": "3.8.12"
  },
  "source_map": [
   11,
   109,
   122
  ]
 },
 "nbformat": 4,
 "nbformat_minor": 5
}