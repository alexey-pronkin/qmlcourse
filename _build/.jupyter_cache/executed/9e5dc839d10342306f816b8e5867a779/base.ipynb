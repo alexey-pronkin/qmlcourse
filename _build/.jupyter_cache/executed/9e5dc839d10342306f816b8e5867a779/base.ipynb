{
 "cells": [
  {
   "cell_type": "code",
   "execution_count": 1,
   "id": "104a4284",
   "metadata": {},
   "outputs": [],
   "source": [
    "import numpy as np\n",
    "from scipy import sparse\n",
    "from scipy.sparse import linalg as sl\n",
    "\n",
    "def sigmaz_k(k: int, n: int) -> (sparse.csr_matrix):\n",
    "    left_part = sparse.eye(2 ** k)\n",
    "    right_part = sparse.eye(2 ** (n - 1 - k))\n",
    "\n",
    "    return sparse.kron(\n",
    "        sparse.kron(\n",
    "            left_part,\n",
    "            sparse.csr_matrix(np.array([[1, 0,], [0, -1,],]))\n",
    "        ),\n",
    "        right_part\n",
    "    )"
   ]
  },
  {
   "cell_type": "code",
   "execution_count": 2,
   "id": "48c363c0",
   "metadata": {},
   "outputs": [],
   "source": [
    "def ising(j: float, h: float, n: int) -> (sparse.csr_matrix):\n",
    "    res = sparse.csr_matrix((2 ** n, 2 ** n), dtype=np.complex64)\n",
    "\n",
    "    for i in range(n - 1):\n",
    "        res += j * sigmaz_k(i, n) * sigmaz_k(i + 1, n)\n",
    "        res -= h * sigmaz_k(i, n)\n",
    "\n",
    "    res -= h * sigmaz_k(n - 1, n)\n",
    "\n",
    "    return res"
   ]
  },
  {
   "cell_type": "code",
   "execution_count": 3,
   "id": "76b86fb2",
   "metadata": {},
   "outputs": [
    {
     "name": "stdout",
     "output_type": "stream",
     "text": [
      "Energy: (-9.000000000000018-2.208468631860285e-16j)\n"
     ]
    }
   ],
   "source": [
    "op = ising(1, 0, 10)\n",
    "solution = sl.eigs(op, which=\"SR\", k=1, return_eigenvectors=True)\n",
    "print(f\"Energy: {solution[0][0]}\")"
   ]
  },
  {
   "cell_type": "code",
   "execution_count": 4,
   "id": "e2491a5a",
   "metadata": {},
   "outputs": [
    {
     "name": "stdout",
     "output_type": "stream",
     "text": [
      "0101010101\n"
     ]
    }
   ],
   "source": [
    "def probs2bit_str(probs: np.array) -> (str):\n",
    "    size = int(np.log2(probs.shape[0]))\n",
    "    bit_s_num = np.where(probs == probs.max())[0][0]\n",
    "\n",
    "    s = f\"{bit_s_num:b}\"\n",
    "    s = \"0\" * (size - len(s)) + s\n",
    "\n",
    "    return s\n",
    "\n",
    "probs = solution[1] * solution[1].conj()\n",
    "print(probs2bit_str(probs))"
   ]
  },
  {
   "cell_type": "code",
   "execution_count": 5,
   "id": "c40a90b8",
   "metadata": {},
   "outputs": [
    {
     "name": "stdout",
     "output_type": "stream",
     "text": [
      "Energy: (-10.99999999999999-1.0571225056728771e-16j)\n",
      "0101010010\n"
     ]
    }
   ],
   "source": [
    "def external_field(j: float, h: float, n: int) -> (None):\n",
    "    op = ising(j, h, n)\n",
    "    solution = sl.eigs(op, which=\"SR\", k=1, return_eigenvectors=True)\n",
    "    print(f\"Energy: {solution[0][0]}\")\n",
    "\n",
    "    probs = solution[1] * solution[1].conj()\n",
    "    print(probs2bit_str(probs))\n",
    "\n",
    "external_field(1, 2, 10)"
   ]
  },
  {
   "cell_type": "code",
   "execution_count": 6,
   "id": "2df88ea9",
   "metadata": {},
   "outputs": [
    {
     "name": "stdout",
     "output_type": "stream",
     "text": [
      "Energy: (-991.0000000000039-3.4882612571137096e-14j)\n",
      "0000000000\n"
     ]
    }
   ],
   "source": [
    "external_field(1, 100, 10)"
   ]
  }
 ],
 "metadata": {
  "jupytext": {
   "formats": "md:myst",
   "text_representation": {
    "extension": ".md",
    "format_name": "myst"
   }
  },
  "kernelspec": {
   "display_name": "Python 3",
   "language": "python",
   "name": "python3"
  },
  "language_info": {
   "codemirror_mode": {
    "name": "ipython",
    "version": 3
   },
   "file_extension": ".py",
   "mimetype": "text/x-python",
   "name": "python",
   "nbconvert_exporter": "python",
   "pygments_lexer": "ipython3",
   "version": "3.8.12"
  },
  "source_map": [
   11,
   103,
   119,
   123,
   134,
   138,
   142,
   150,
   162,
   166,
   176,
   180,
   182
  ]
 },
 "nbformat": 4,
 "nbformat_minor": 5
}