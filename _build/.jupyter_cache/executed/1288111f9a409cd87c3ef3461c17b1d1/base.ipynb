{
 "cells": [
  {
   "cell_type": "code",
   "execution_count": 1,
   "id": "6e5631af",
   "metadata": {},
   "outputs": [
    {
     "data": {
      "text/html": [
       "<pre style=\"word-wrap: normal;white-space: pre;background: #fff0;line-height: 1.1;font-family: &quot;Courier New&quot;,Courier,monospace\">      ┌───┐     ┌───┐      ┌─┐\n",
       "q1_0: ┤ H ├──■──┤ H ├──────┤M├\n",
       "      ├───┤  │  ├───┤┌─┐   └╥┘\n",
       "q1_1: ┤ H ├──┼──┤ H ├┤M├────╫─\n",
       "      ├───┤  │  ├───┤└╥┘┌─┐ ║ \n",
       "q1_2: ┤ H ├──┼──┤ H ├─╫─┤M├─╫─\n",
       "      └───┘┌─┴─┐└┬─┬┘ ║ └╥┘ ║ \n",
       "q2_0: ─────┤ X ├─┤M├──╫──╫──╫─\n",
       "       ┌─┐ └───┘ └╥┘  ║  ║  ║ \n",
       "q2_1: ─┤M├────────╫───╫──╫──╫─\n",
       "       └╥┘  ┌─┐   ║   ║  ║  ║ \n",
       "q2_2: ──╫───┤M├───╫───╫──╫──╫─\n",
       "        ║   └╥┘   ║   ║  ║  ║ \n",
       "c1: 3/══╩════╩════╩═══╩══╩══╩═\n",
       "        1    2    0   1  2  0 </pre>"
      ],
      "text/plain": [
       "      ┌───┐     ┌───┐      ┌─┐\n",
       "q1_0: ┤ H ├──■──┤ H ├──────┤M├\n",
       "      ├───┤  │  ├───┤┌─┐   └╥┘\n",
       "q1_1: ┤ H ├──┼──┤ H ├┤M├────╫─\n",
       "      ├───┤  │  ├───┤└╥┘┌─┐ ║ \n",
       "q1_2: ┤ H ├──┼──┤ H ├─╫─┤M├─╫─\n",
       "      └───┘┌─┴─┐└┬─┬┘ ║ └╥┘ ║ \n",
       "q2_0: ─────┤ X ├─┤M├──╫──╫──╫─\n",
       "       ┌─┐ └───┘ └╥┘  ║  ║  ║ \n",
       "q2_1: ─┤M├────────╫───╫──╫──╫─\n",
       "       └╥┘  ┌─┐   ║   ║  ║  ║ \n",
       "q2_2: ──╫───┤M├───╫───╫──╫──╫─\n",
       "        ║   └╥┘   ║   ║  ║  ║ \n",
       "c1: 3/══╩════╩════╩═══╩══╩══╩═\n",
       "        1    2    0   1  2  0 "
      ]
     },
     "execution_count": 1,
     "metadata": {},
     "output_type": "execute_result"
    }
   ],
   "source": [
    "from qiskit import QuantumCircuit, ClassicalRegister, QuantumRegister\n",
    "\n",
    "# Работаем в пространстве размерности n = 3.\n",
    "n = 3\n",
    "\n",
    "# Создаём необходимые регистры\n",
    "qr1 = QuantumRegister(n, name=\"q1\")\n",
    "qr2 = QuantumRegister(n, name=\"q2\")\n",
    "cr1 = ClassicalRegister(n, name=\"c1\")\n",
    "\n",
    "# Шаг 1. Создаём квантовую схему (инициализация состояния)\n",
    "qc = QuantumCircuit(qr1, qr2, cr1)\n",
    "\n",
    "# Шаг 2. Применяем гейт Адамара ко всем кубитам первого регистра\n",
    "qc.h(range(n))\n",
    "\n",
    "# Шаг 3. Применяем U_f\n",
    "qc.cx(qr1[0], qr2[0])\n",
    "\n",
    "# Шаг 4. Производим измерение первого регистра\n",
    "qc.measure(qr2, cr1)\n",
    "\n",
    "# Шаг 5. Ещё раз применяем гейт адамара к каждому из кубитов\n",
    "qc.h(range(n))\n",
    "\n",
    "# Шаг 6. Производим измерение первого регистра\n",
    "qc.measure(qr1, cr1)\n",
    "\n",
    "# Рисуем схему\n",
    "qc.draw()"
   ]
  }
 ],
 "metadata": {
  "jupytext": {
   "formats": "md:myst",
   "text_representation": {
    "extension": ".md",
    "format_name": "myst"
   }
  },
  "kernelspec": {
   "display_name": "Python 3",
   "language": "python",
   "name": "python3"
  },
  "language_info": {
   "codemirror_mode": {
    "name": "ipython",
    "version": 3
   },
   "file_extension": ".py",
   "mimetype": "text/x-python",
   "name": "python",
   "nbconvert_exporter": "python",
   "pygments_lexer": "ipython3",
   "version": "3.8.12"
  },
  "source_map": [
   11,
   179,
   210
  ]
 },
 "nbformat": 4,
 "nbformat_minor": 5
}