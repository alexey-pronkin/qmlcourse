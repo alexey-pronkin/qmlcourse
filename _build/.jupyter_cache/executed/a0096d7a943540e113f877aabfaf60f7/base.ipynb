{
 "cells": [
  {
   "cell_type": "code",
   "execution_count": 1,
   "id": "5b8756da",
   "metadata": {},
   "outputs": [],
   "source": [
    "import pennylane as qml\n",
    "from pennylane import numpy as np\n",
    "\n",
    "dev = qml.device(\"default.qubit\", shots=1, wires=2)"
   ]
  },
  {
   "cell_type": "code",
   "execution_count": 2,
   "id": "e21055f3",
   "metadata": {},
   "outputs": [],
   "source": [
    "def f1():\n",
    "    pass\n",
    "\n",
    "def f2():\n",
    "    qml.PauliX(wires=[1])\n",
    "\n",
    "def f3():\n",
    "    qml.CNOT(wires=[0, 1])\n",
    "\n",
    "def f4():\n",
    "    qml.PauliX(wires=0)\n",
    "    qml.CNOT(wires=[0, 1])\n",
    "    qml.PauliX(wires=0)"
   ]
  },
  {
   "cell_type": "code",
   "execution_count": 3,
   "id": "38a89001",
   "metadata": {},
   "outputs": [],
   "source": [
    "black_boxes_dict = {\"f1\": f1, \"f2\": f2, \"f3\": f3, \"f4\": f4}"
   ]
  },
  {
   "cell_type": "code",
   "execution_count": 4,
   "id": "354295eb",
   "metadata": {},
   "outputs": [],
   "source": [
    "def random_black_box(black_boxes_dict):\n",
    "    black_boxes_dict_list_keys = list(black_boxes_dict.keys())\n",
    "    n = np.random.randint(0, len(black_boxes_dict_list_keys))\n",
    "\n",
    "    return black_boxes_dict_list_keys[n]"
   ]
  },
  {
   "cell_type": "code",
   "execution_count": 5,
   "id": "d1f1de96",
   "metadata": {},
   "outputs": [],
   "source": [
    "@qml.qnode(dev, interface=None)\n",
    "def circuit(black_box_name):\n",
    "    qml.Hadamard(wires=0)\n",
    "    qml.PauliX(wires=1)\n",
    "    qml.Hadamard(wires=1)\n",
    "\n",
    "    black_boxes_dict[black_box_name]()\n",
    "    qml.Hadamard(wires=0)\n",
    "\n",
    "    return qml.sample(qml.PauliZ([0]))"
   ]
  },
  {
   "cell_type": "code",
   "execution_count": 6,
   "id": "e967d0a4",
   "metadata": {},
   "outputs": [],
   "source": [
    "black_box_name = random_black_box(black_boxes_dict)"
   ]
  },
  {
   "cell_type": "code",
   "execution_count": 7,
   "id": "0c5ee897",
   "metadata": {},
   "outputs": [
    {
     "name": "stdout",
     "output_type": "stream",
     "text": [
      "1\n"
     ]
    }
   ],
   "source": [
    "result = circuit(black_box_name)\n",
    "print(result)"
   ]
  },
  {
   "cell_type": "code",
   "execution_count": 8,
   "id": "2337bc51",
   "metadata": {},
   "outputs": [
    {
     "name": "stdout",
     "output_type": "stream",
     "text": [
      "f1\n"
     ]
    }
   ],
   "source": [
    "print(black_box_name)"
   ]
  },
  {
   "cell_type": "code",
   "execution_count": 9,
   "id": "6f5cd3c9",
   "metadata": {},
   "outputs": [
    {
     "name": "stdout",
     "output_type": "stream",
     "text": [
      " 0: ──H──H──┤ Sample[Z] \n",
      " 1: ──X──H──┤           \n",
      "\n"
     ]
    }
   ],
   "source": [
    "print(circuit.draw())"
   ]
  }
 ],
 "metadata": {
  "jupytext": {
   "formats": "md:myst",
   "text_representation": {
    "extension": ".md",
    "format_name": "myst"
   }
  },
  "kernelspec": {
   "display_name": "Python 3",
   "language": "python",
   "name": "python3"
  },
  "language_info": {
   "codemirror_mode": {
    "name": "ipython",
    "version": 3
   },
   "file_extension": ".py",
   "mimetype": "text/x-python",
   "name": "python",
   "nbconvert_exporter": "python",
   "pygments_lexer": "ipython3",
   "version": "3.8.12"
  },
  "source_map": [
   11,
   218,
   223,
   227,
   241,
   245,
   247,
   251,
   257,
   261,
   272,
   278,
   280,
   284,
   287,
   291,
   293,
   297,
   299
  ]
 },
 "nbformat": 4,
 "nbformat_minor": 5
}